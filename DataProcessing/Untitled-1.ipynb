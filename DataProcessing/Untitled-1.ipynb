{
 "cells": [
  {
   "cell_type": "markdown",
   "metadata": {},
   "source": [
    "# Data Check \n",
    "\n",
    "Running throuth code collected from Bright Block and seeing what sticks!\n",
    "\n"
   ]
  },
  {
   "cell_type": "code",
   "execution_count": null,
   "metadata": {},
   "outputs": [],
   "source": [
    "## Imprting code\n",
    "\n",
    "# Open a file for writing and insert some records\n",
    ">>> f = open('/test.txt', 'w')\n",
    ">>> f.write('apple\\n')\n",
    ">>> f.write('orange\\n')\n",
    ">>> f.write('pear\\n')\n",
    ">>> f.close()    # Always close the file"
   ]
  }
 ],
 "metadata": {
  "language_info": {
   "name": "python"
  }
 },
 "nbformat": 4,
 "nbformat_minor": 2
}
