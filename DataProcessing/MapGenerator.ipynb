{
 "cells": [
  {
   "cell_type": "markdown",
   "metadata": {},
   "source": [
    "## Imports and reading GeoJson"
   ]
  },
  {
   "cell_type": "code",
   "execution_count": 281,
   "metadata": {},
   "outputs": [],
   "source": [
    "%reset \n",
    "from keplergl import KeplerGl \n",
    "import pandas as pd\n",
    "import json\n",
    "import os\n",
    "import geopandas as gpd\n",
    "from shapely.geometry import Point, LineString\n",
    "\n",
    "if os.path.exists('pm25_data.geojson'):\n",
    "    with open('pm25_data.geojson', 'r') as f:\n",
    "        geojson_data = json.load(f)\n",
    "\n",
    "with open('pm25_config.json', 'r') as f:\n",
    "    config = json.load(f)"
   ]
  },
  {
   "cell_type": "code",
   "execution_count": 280,
   "metadata": {},
   "outputs": [],
   "source": [
    "# if os.path.exists('pm25_daa.geojson') == False:\n",
    "geojson_data = None\n",
    "file_path = 'DataLake.csv'\n",
    "data = pd.read_csv(file_path, header=0)\n",
    "data['TimeStampAdjustedMS'] = pd.to_datetime(data['TimeStampAdjusted']).astype(int) / 10**9\n",
    "data['height'] = data['PM25']\n",
    "\n",
    "PMData = data[['TimeStampAdjusted', 'Latitude', 'Longitude', 'Altitude', 'PM25', 'Event','TimeStampAdjustedMS', 'height']]\n",
    "\n",
    "def dataframe_to_geojson(df, lat_col, lon_col, properties=None):\n",
    "    # Create a GeoDataFrame\n",
    "    geometry = [Point(xy) for xy in zip(df[lon_col], df[lat_col])]\n",
    "    gdf = gpd.GeoDataFrame(df, geometry=geometry)\n",
    "    \n",
    "    # Set the coordinate reference system (CRS) to WGS84\n",
    "    gdf.crs = \"EPSG:4326\"\n",
    "    \n",
    "    # Select properties to include in the GeoJSON\n",
    "    if properties:\n",
    "        gdf = gdf[properties + ['geometry']]\n",
    "    \n",
    "    # Convert to GeoJSON\n",
    "    geojson = gdf.to_json()\n",
    "    \n",
    "    return geojson\n",
    "\n",
    "geojson_data = dataframe_to_geojson(PMData, 'Latitude', 'Longitude', ['PM25', 'Event', 'TimeStampAdjusted', 'Latitude', 'Longitude','TimeStampAdjustedMS', 'height' ])\n",
    "with open('pm25_data.geojson', 'w') as f:\n",
    "    f.write(geojson_data)\n",
    "\n"
   ]
  },
  {
   "cell_type": "code",
   "execution_count": 282,
   "metadata": {},
   "outputs": [
    {
     "name": "stdout",
     "output_type": "stream",
     "text": [
      "User Guide: https://docs.kepler.gl/docs/keplergl-jupyter\n"
     ]
    },
    {
     "data": {
      "application/vnd.jupyter.widget-view+json": {
       "model_id": "4d68e735b4aa485bb9e69c74f5017367",
       "version_major": 2,
       "version_minor": 0
      },
      "text/plain": [
       "KeplerGl(config={'version': 'v1', 'config': {'visState': {'filters': [{'dataId': ['data'], 'id': 'lxcvi3a4q', …"
      ]
     },
     "metadata": {},
     "output_type": "display_data"
    }
   ],
   "source": [
    "map = KeplerGl(data={\"data\": geojson_data}, config = config)\n",
    "map\n"
   ]
  },
  {
   "cell_type": "code",
   "execution_count": 284,
   "metadata": {},
   "outputs": [
    {
     "name": "stdout",
     "output_type": "stream",
     "text": [
      "Map saved to first_map.html!\n"
     ]
    }
   ],
   "source": [
    "map.save_to_html(file_name='first_map.html')\n",
    "\n"
   ]
  },
  {
   "cell_type": "code",
   "execution_count": 271,
   "metadata": {},
   "outputs": [],
   "source": [
    "# Generate GeoJSON for Trip Layer\n",
    "def dataframe_to_trip_geojson(df, lat_col, lon_col, alt_col, timestamp_col):\n",
    "    # Create a GeoDataFrame with LineString geometry\n",
    "    geometry = [LineString([Point(lon, lat, alt) for lon, lat, alt, _ in zip(df[lon_col], df[lat_col], df[alt_col], df[timestamp_col])])]\n",
    "    gdf = gpd.GeoDataFrame(geometry=geometry)\n",
    "    \n",
    "    # Set the coordinate reference system (CRS) to WGS84\n",
    "    gdf.crs = \"EPSG:4326\"\n",
    "    \n",
    "    # Convert to GeoJSON\n",
    "    trip_geojson = gdf.to_json()\n",
    "    \n",
    "    return trip_geojson\n",
    "\n",
    "trip_geojson_data = dataframe_to_trip_geojson(PMData, 'Latitude', 'Longitude', 'Altitude', 'TimeStampAdjustedMS')\n",
    "with open('trip_data.geojson', 'w') as f:\n",
    "    f.write(trip_geojson_data)"
   ]
  },
  {
   "cell_type": "code",
   "execution_count": 234,
   "metadata": {},
   "outputs": [
    {
     "data": {
      "text/plain": [
       "{'version': 'v1',\n",
       " 'config': {'visState': {'filters': [{'dataId': ['data'],\n",
       "     'id': 'lxcvi3a4q',\n",
       "     'name': ['TimeStampAdjusted'],\n",
       "     'type': 'timeRange',\n",
       "     'value': [1700641662000, 1707383067000],\n",
       "     'enlarged': False,\n",
       "     'plotType': 'histogram',\n",
       "     'animationWindow': 'free',\n",
       "     'yAxis': None,\n",
       "     'speed': 1},\n",
       "    {'dataId': ['data'],\n",
       "     'id': 'fk5tzhz8g',\n",
       "     'name': ['Event'],\n",
       "     'type': 'range',\n",
       "     'value': [20, 97],\n",
       "     'enlarged': False,\n",
       "     'plotType': 'histogram',\n",
       "     'animationWindow': 'free',\n",
       "     'yAxis': None,\n",
       "     'speed': 1}],\n",
       "   'layers': [{'id': 'c5wb7a5',\n",
       "     'type': 'grid',\n",
       "     'config': {'dataId': 'data',\n",
       "      'label': 'pm25',\n",
       "      'color': [255, 153, 31],\n",
       "      'highlightColor': [252, 242, 26, 255],\n",
       "      'columns': {'lat': 'Latitude', 'lng': 'Longitude'},\n",
       "      'isVisible': True,\n",
       "      'visConfig': {'opacity': 0.8,\n",
       "       'worldUnitSize': 0.03,\n",
       "       'colorRange': {'name': 'Custom Palette',\n",
       "        'type': 'custom',\n",
       "        'category': 'Custom',\n",
       "        'colors': ['#31a354', '#F2C24F', '#E58331', '#B64433', '#9F2757']},\n",
       "       'coverage': 0.87,\n",
       "       'sizeRange': [0, 524.67],\n",
       "       'percentile': [0, 100],\n",
       "       'elevationPercentile': [6.31, 100],\n",
       "       'elevationScale': 2.9,\n",
       "       'enableElevationZoomFactor': True,\n",
       "       'colorAggregation': 'average',\n",
       "       'sizeAggregation': 'average',\n",
       "       'enable3d': True},\n",
       "      'hidden': False,\n",
       "      'textLabel': [{'field': None,\n",
       "        'color': [255, 255, 255],\n",
       "        'size': 18,\n",
       "        'offset': [0, 0],\n",
       "        'anchor': 'start',\n",
       "        'alignment': 'center'}]},\n",
       "     'visualChannels': {'colorField': {'name': 'PM25', 'type': 'real'},\n",
       "      'colorScale': 'quantile',\n",
       "      'sizeField': {'name': 'PM25', 'type': 'real'},\n",
       "      'sizeScale': 'linear'}}],\n",
       "   'interactionConfig': {'tooltip': {'fieldsToShow': {'data': [{'name': 'PM25',\n",
       "        'format': None},\n",
       "       {'name': 'Event', 'format': None},\n",
       "       {'name': 'TimeStampAdjusted', 'format': None},\n",
       "       {'name': 'Latitude', 'format': None},\n",
       "       {'name': 'Longitude', 'format': None}]},\n",
       "     'compareMode': False,\n",
       "     'compareType': 'absolute',\n",
       "     'enabled': True},\n",
       "    'brush': {'size': 0.5, 'enabled': False},\n",
       "    'geocoder': {'enabled': False},\n",
       "    'coordinate': {'enabled': False}},\n",
       "   'layerBlending': 'normal',\n",
       "   'splitMaps': [],\n",
       "   'animationConfig': {'currentTime': None, 'speed': 1}},\n",
       "  'mapState': {'bearing': 24,\n",
       "   'dragRotate': True,\n",
       "   'latitude': 37.79078445862864,\n",
       "   'longitude': -122.44728627224355,\n",
       "   'pitch': 50,\n",
       "   'zoom': 11.048296072930809,\n",
       "   'isSplit': False},\n",
       "  'mapStyle': {'styleType': 'muted',\n",
       "   'topLayerGroups': {},\n",
       "   'visibleLayerGroups': {'label': True,\n",
       "    'road': True,\n",
       "    'border': False,\n",
       "    'building': True,\n",
       "    'water': True,\n",
       "    'land': True,\n",
       "    '3d building': False},\n",
       "   'threeDBuildingColor': [224.4071295378559,\n",
       "    224.4071295378559,\n",
       "    224.4071295378559],\n",
       "   'mapStyles': {}}}}"
      ]
     },
     "execution_count": 234,
     "metadata": {},
     "output_type": "execute_result"
    }
   ],
   "source": [
    "map.config"
   ]
  }
 ],
 "metadata": {
  "kernelspec": {
   "display_name": "Python 3",
   "language": "python",
   "name": "python3"
  },
  "language_info": {
   "codemirror_mode": {
    "name": "ipython",
    "version": 3
   },
   "file_extension": ".py",
   "mimetype": "text/x-python",
   "name": "python",
   "nbconvert_exporter": "python",
   "pygments_lexer": "ipython3",
   "version": "3.12.0"
  }
 },
 "nbformat": 4,
 "nbformat_minor": 2
}
